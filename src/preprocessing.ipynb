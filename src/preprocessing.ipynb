{
 "cells": [
  {
   "cell_type": "code",
   "execution_count": 25,
   "id": "5043eccd",
   "metadata": {},
   "outputs": [],
   "source": [
    "import pandas as pd\n",
    "from sklearn.preprocessing import StandardScaler\n",
    "from imblearn.over_sampling import SMOTE"
   ]
  },
  {
   "cell_type": "code",
   "execution_count": 26,
   "id": "a3aaf616",
   "metadata": {},
   "outputs": [],
   "source": [
    "# Load processed dataset\n",
    "df = pd.read_csv(\"../data/processed_data.csv\")"
   ]
  },
  {
   "cell_type": "code",
   "execution_count": 27,
   "id": "4294836c",
   "metadata": {},
   "outputs": [],
   "source": [
    "# 1. Define Features and Target\n",
    "X = df.drop(columns=[\"Need_Maintenance\"])\n",
    "y = df[\"Need_Maintenance\"]"
   ]
  },
  {
   "cell_type": "code",
   "execution_count": 28,
   "id": "b7a9f161",
   "metadata": {},
   "outputs": [],
   "source": [
    "# 2. Scale Numerical Features\n",
    "scaler = StandardScaler()\n",
    "X_scaled = scaler.fit_transform(X)\n",
    "X_scaled_df = pd.DataFrame(X_scaled, columns=X.columns)"
   ]
  },
  {
   "cell_type": "code",
   "execution_count": 29,
   "id": "4561f6a7",
   "metadata": {},
   "outputs": [],
   "source": [
    "pd.DataFrame(X_scaled_df.columns).to_csv(\"../models/feature_columns.csv\", index=False, header=False)\n"
   ]
  },
  {
   "cell_type": "code",
   "execution_count": 30,
   "id": "b7e2ba8f",
   "metadata": {},
   "outputs": [],
   "source": [
    "# 3. Balance the Target Variable Using SMOTE\n",
    "smote = SMOTE(random_state=42)\n",
    "X_balanced, y_balanced = smote.fit_resample(X_scaled_df, y)"
   ]
  },
  {
   "cell_type": "code",
   "execution_count": 31,
   "id": "cb5b6707",
   "metadata": {},
   "outputs": [],
   "source": [
    "# 4. Combine Balanced Features and Target\n",
    "balanced_df = pd.concat([pd.DataFrame(X_balanced, columns=X_scaled_df.columns), pd.Series(y_balanced, name=\"Need_Maintenance\")], axis=1)"
   ]
  },
  {
   "cell_type": "code",
   "execution_count": 32,
   "id": "1c088724",
   "metadata": {},
   "outputs": [
    {
     "name": "stdout",
     "output_type": "stream",
     "text": [
      "Balanced data saved to 'data/balanced_data.csv'\n"
     ]
    }
   ],
   "source": [
    "# 5. Save Balanced Data\n",
    "balanced_df.to_csv(\"../data/balanced_data.csv\", index=False)\n",
    "print(\"Balanced data saved to 'data/balanced_data.csv'\")"
   ]
  },
  {
   "cell_type": "code",
   "execution_count": null,
   "id": "8c41911a",
   "metadata": {},
   "outputs": [],
   "source": []
  }
 ],
 "metadata": {
  "kernelspec": {
   "display_name": "venv",
   "language": "python",
   "name": "python3"
  },
  "language_info": {
   "codemirror_mode": {
    "name": "ipython",
    "version": 3
   },
   "file_extension": ".py",
   "mimetype": "text/x-python",
   "name": "python",
   "nbconvert_exporter": "python",
   "pygments_lexer": "ipython3",
   "version": "3.13.3"
  }
 },
 "nbformat": 4,
 "nbformat_minor": 5
}
