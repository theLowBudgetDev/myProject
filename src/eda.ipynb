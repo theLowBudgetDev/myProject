{
 "cells": [
  {
   "cell_type": "code",
   "execution_count": 1,
   "id": "ecabb17a",
   "metadata": {},
   "outputs": [],
   "source": [
    "import pandas as pd\n",
    "import matplotlib.pyplot as plt\n",
    "import seaborn as sns\n",
    "import os"
   ]
  },
  {
   "cell_type": "code",
   "execution_count": 2,
   "id": "b8577a0a",
   "metadata": {},
   "outputs": [],
   "source": [
    "# Create directories for saving plots and data\n",
    "if not os.path.exists(\"plots\"):\n",
    "    os.makedirs(\"plots\")\n",
    "if not os.path.exists(\"../data\"):\n",
    "    os.makedirs(\"../data\")\n"
   ]
  },
  {
   "cell_type": "code",
   "execution_count": 3,
   "id": "d16b8892",
   "metadata": {},
   "outputs": [],
   "source": [
    "#Load dataset\n",
    "try:\n",
    "    df = pd.read_csv(\"../data/vehicle_maintenance_data.csv\")\n",
    "except FileNotFoundError:\n",
    "    raise FileNotFoundError(\"The file '../data/vehicle_maintenance_data.csv' was not found. Please ensure it exists in the correct directory.\")"
   ]
  },
  {
   "cell_type": "code",
   "execution_count": 4,
   "id": "e71998ff",
   "metadata": {},
   "outputs": [
    {
     "name": "stdout",
     "output_type": "stream",
     "text": [
      "Dataset Shape: (50000, 20)\n",
      "\n",
      "Missing Values:\n",
      " Vehicle_Model           0\n",
      "Mileage                 0\n",
      "Maintenance_History     0\n",
      "Reported_Issues         0\n",
      "Vehicle_Age             0\n",
      "Fuel_Type               0\n",
      "Transmission_Type       0\n",
      "Engine_Size             0\n",
      "Odometer_Reading        0\n",
      "Last_Service_Date       0\n",
      "Warranty_Expiry_Date    0\n",
      "Owner_Type              0\n",
      "Insurance_Premium       0\n",
      "Service_History         0\n",
      "Accident_History        0\n",
      "Fuel_Efficiency         0\n",
      "Tire_Condition          0\n",
      "Brake_Condition         0\n",
      "Battery_Status          0\n",
      "Need_Maintenance        0\n",
      "dtype: int64\n",
      "\n",
      "Duplicates: 0\n"
     ]
    }
   ],
   "source": [
    "# 1. Data Quality Check\n",
    "print(\"Dataset Shape:\", df.shape)\n",
    "print(\"\\nMissing Values:\\n\", df.isnull().sum())\n",
    "print(\"\\nDuplicates:\", df.duplicated().sum())"
   ]
  },
  {
   "cell_type": "code",
   "execution_count": 5,
   "id": "7722078a",
   "metadata": {},
   "outputs": [],
   "source": [
    "# 2. Convert Categorical Columns to Numerical\n",
    "# Define mappings for ordinal categorical variables\n",
    "maintenance_mapping = {\"Poor\": 0, \"Average\": 1, \"Good\": 2}\n",
    "condition_mapping = {\"New\": 0, \"Good\": 1, \"Worn Out\": 2}\n",
    "battery_mapping = {\"Weak\": 0, \"Good\": 1, \"New\": 2}"
   ]
  },
  {
   "cell_type": "code",
   "execution_count": 6,
   "id": "2658dafd",
   "metadata": {},
   "outputs": [],
   "source": [
    "# Check if the columns exist and values are valid\n",
    "for col, mapping in [(\"Maintenance_History\", maintenance_mapping), \n",
    "                     (\"Tire_Condition\", condition_mapping), \n",
    "                     (\"Brake_Condition\", condition_mapping), \n",
    "                     (\"Battery_Status\", battery_mapping)]:\n",
    "    if col not in df.columns:\n",
    "        raise KeyError(f\"Column '{col}' not found in the dataset.\")\n",
    "    invalid_values = df[col][~df[col].isin(mapping.keys())]\n",
    "    if not invalid_values.empty:\n",
    "        raise ValueError(f\"Column '{col}' contains invalid values: {invalid_values.unique()}\")\n",
    "\n",
    "df[\"Maintenance_History\"] = df[\"Maintenance_History\"].map(maintenance_mapping)\n",
    "df[\"Tire_Condition\"] = df[\"Tire_Condition\"].map(condition_mapping)\n",
    "df[\"Brake_Condition\"] = df[\"Brake_Condition\"].map(condition_mapping)\n",
    "df[\"Battery_Status\"] = df[\"Battery_Status\"].map(battery_mapping)"
   ]
  },
  {
   "cell_type": "code",
   "execution_count": 7,
   "id": "587c4e19",
   "metadata": {},
   "outputs": [],
   "source": [
    "# One-hot encode other categorical variables\n",
    "df = pd.get_dummies(df, columns=[\"Vehicle_Model\", \"Fuel_Type\", \"Transmission_Type\", \"Owner_Type\"], drop_first=False)"
   ]
  },
  {
   "cell_type": "code",
   "execution_count": 8,
   "id": "edb16e9e",
   "metadata": {},
   "outputs": [],
   "source": [
    "# Convert date columns to numerical (days since last service, warranty expired)\n",
    "current_date = pd.to_datetime(\"2025-05-28\")\n",
    "df[\"Last_Service_Date\"] = pd.to_datetime(df[\"Last_Service_Date\"])\n",
    "df[\"Warranty_Expiry_Date\"] = pd.to_datetime(df[\"Warranty_Expiry_Date\"])\n",
    "df[\"Days_Since_Last_Service\"] = (current_date - df[\"Last_Service_Date\"]).dt.days\n",
    "df[\"Warranty_Expired\"] = (df[\"Warranty_Expiry_Date\"] < current_date).astype(int)\n",
    "df = df.drop(columns=[\"Last_Service_Date\", \"Warranty_Expiry_Date\"])"
   ]
  },
  {
   "cell_type": "code",
   "execution_count": 9,
   "id": "2229f455",
   "metadata": {},
   "outputs": [],
   "source": [
    "# Convert all columns to int32/int64\n",
    "for col in df.columns:\n",
    "    if df[col].dtype == \"float64\":\n",
    "        df[col] = df[col].astype(\"int64\")\n",
    "    elif df[col].dtype == \"bool\":\n",
    "        df[col] = df[col].astype(\"int32\")\n",
    "    elif df[col].dtype == \"object\":\n",
    "        df[col] = df[col].astype(\"int32\")\n",
    "    else:\n",
    "        df[col] = df[col].astype(\"int32\")"
   ]
  },
  {
   "cell_type": "code",
   "execution_count": 10,
   "id": "db905884",
   "metadata": {},
   "outputs": [],
   "source": [
    "# 6. Maintenance Needs by Key Features\n",
    "plt.figure(figsize=(8, 6))\n",
    "sns.barplot(x=\"Maintenance_History\", y=\"Need_Maintenance\", data=df)\n",
    "plt.title(\"Need Maintenance by Maintenance History\")\n",
    "plt.savefig(\"plots/maintenance_by_history.png\")\n",
    "plt.close()"
   ]
  },
  {
   "cell_type": "code",
   "execution_count": 11,
   "id": "a422a2a3",
   "metadata": {},
   "outputs": [],
   "source": [
    "# 4. Numerical Features Distribution\n",
    "numerical_cols = [\"Mileage\", \"Reported_Issues\", \"Vehicle_Age\", \"Engine_Size\", \"Odometer_Reading\", \"Days_Since_Last_Service\"]\n",
    "plt.figure(figsize=(12, 8))\n",
    "for i, col in enumerate(numerical_cols, 1):\n",
    "    plt.subplot(2, 3, i)\n",
    "    sns.histplot(df[col], kde=True)\n",
    "    plt.title(f\"Distribution of {col}\")\n",
    "plt.tight_layout()\n",
    "plt.savefig(\"plots/numerical_distributions.png\")\n",
    "plt.close()"
   ]
  },
  {
   "cell_type": "code",
   "execution_count": 12,
   "id": "a6e3f656",
   "metadata": {},
   "outputs": [],
   "source": [
    "# 5. Correlation Analysis\n",
    "plt.figure(figsize=(10, 8))\n",
    "sns.heatmap(df.corr(), cmap=\"coolwarm\", annot=False)\n",
    "plt.title(\"Correlation Heatmap\")\n",
    "plt.savefig(\"plots/correlation_heatmap.png\")\n",
    "plt.close()"
   ]
  },
  {
   "cell_type": "code",
   "execution_count": 13,
   "id": "9e7ccd05",
   "metadata": {},
   "outputs": [],
   "source": [
    "# 6. Maintenance Needs by Key Features\n",
    "plt.figure(figsize=(8, 6))\n",
    "sns.barplot(x=\"Maintenance_History\", y=\"Need_Maintenance\", data=df)\n",
    "plt.title(\"Need Maintenance by Maintenance History\")\n",
    "plt.savefig(\"plots/maintenance_by_history.png\")\n",
    "plt.close()"
   ]
  },
  {
   "cell_type": "code",
   "execution_count": 14,
   "id": "a6e53b88",
   "metadata": {},
   "outputs": [
    {
     "name": "stdout",
     "output_type": "stream",
     "text": [
      "Processed data saved to 'data/processed_data.csv'\n"
     ]
    }
   ],
   "source": [
    "# 7. Save Processed Data for Further Use\n",
    "df.to_csv(\"../data/processed_data.csv\", index=False)\n",
    "print(\"Processed data saved to 'data/processed_data.csv'\")"
   ]
  },
  {
   "cell_type": "code",
   "execution_count": null,
   "id": "a63568ff",
   "metadata": {},
   "outputs": [],
   "source": []
  }
 ],
 "metadata": {
  "kernelspec": {
   "display_name": "venv",
   "language": "python",
   "name": "python3"
  },
  "language_info": {
   "codemirror_mode": {
    "name": "ipython",
    "version": 3
   },
   "file_extension": ".py",
   "mimetype": "text/x-python",
   "name": "python",
   "nbconvert_exporter": "python",
   "pygments_lexer": "ipython3",
   "version": "3.13.3"
  }
 },
 "nbformat": 4,
 "nbformat_minor": 5
}
