{
 "cells": [
  {
   "cell_type": "code",
   "execution_count": 1,
   "id": "e557fde0",
   "metadata": {},
   "outputs": [],
   "source": [
    "import pandas as pd\n",
    "import json\n",
    "\n",
    "df = pd.read_csv(\"../data/vehicle_maintenance_data.csv\")"
   ]
  },
  {
   "cell_type": "code",
   "execution_count": 2,
   "id": "12e91ca0",
   "metadata": {},
   "outputs": [],
   "source": [
    "# Optional: drop your label column if it exists\n",
    "target_column = 'Need_Maintenance'  # Update this if your label column is named differently\n",
    "if target_column in df.columns:\n",
    "    df = df.drop(columns=[target_column])"
   ]
  },
  {
   "cell_type": "code",
   "execution_count": 4,
   "id": "f6dc22ab",
   "metadata": {},
   "outputs": [],
   "source": [
    "# Keep only numeric columns\n",
    "numeric_df = df.select_dtypes(include=['number'])\n"
   ]
  },
  {
   "cell_type": "code",
   "execution_count": 6,
   "id": "aa35a16b",
   "metadata": {},
   "outputs": [],
   "source": [
    "\n",
    "# Compute normal ranges for each numeric feature\n",
    "normal_ranges = {}\n",
    "for col in numeric_df.columns:\n",
    "    mean = numeric_df[col].mean()\n",
    "    std = numeric_df[col].std()\n",
    "    lower = round(mean - std, 2)\n",
    "    upper = round(mean + std, 2)\n",
    "    normal_ranges[col] = {\"lower\": lower, \"upper\": upper}\n"
   ]
  },
  {
   "cell_type": "code",
   "execution_count": 7,
   "id": "7867ae45",
   "metadata": {},
   "outputs": [],
   "source": [
    "# Save to JSON for use in your app\n",
    "with open(\"../models/normal_ranges.json\", \"w\") as f:\n",
    "    json.dump(normal_ranges, f, indent=4)"
   ]
  },
  {
   "cell_type": "code",
   "execution_count": null,
   "id": "1824141a",
   "metadata": {},
   "outputs": [],
   "source": []
  }
 ],
 "metadata": {
  "kernelspec": {
   "display_name": "venv",
   "language": "python",
   "name": "python3"
  },
  "language_info": {
   "codemirror_mode": {
    "name": "ipython",
    "version": 3
   },
   "file_extension": ".py",
   "mimetype": "text/x-python",
   "name": "python",
   "nbconvert_exporter": "python",
   "pygments_lexer": "ipython3",
   "version": "3.13.3"
  }
 },
 "nbformat": 4,
 "nbformat_minor": 5
}
